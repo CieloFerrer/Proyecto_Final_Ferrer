{
 "cells": [
  {
   "cell_type": "markdown",
   "id": "ca446d00",
   "metadata": {},
   "source": [
    "# Proyecto Final - Diplomatura en IA Generativa\n",
    "## Idea Alquímica: Tejiendo el Futuro con Prompt Engineering\n",
    "### Autora: Ferrer María del Cielo\n",
    "\n",
    "Este notebook forma parte del proyecto final presentado en la materia **Inteligencia Artificial: Generación de Prompts**. \n",
    "Acá se documenta el problema, los objetivos, la metodología, los prompts utilizados (texto-texto y texto-imagen) y los resultados obtenidos."
   ]
  },
  {
   "cell_type": "markdown",
   "id": "819dc7b8",
   "metadata": {},
   "source": [
    "# Proyecto Final de Ferrer María del Cielo | Creación de Contenido con IA para S2GP\n",
    "\n",
    "\n",
    "**Resumen:**\n",
    "\n",
    "Este proyecto final de la materia Inteligencia Artificial: Generación de Prompts (Diplomatura) aborda la problemática de generar contenido de texto (copies) de alta calidad para las redes sociales de la imprenta Signs2goPlus (S2GP). A pesar de contar con un equipo de diseño talentoso, los textos que acompañan las publicaciones suelen ser genéricos y poco atractivos, lo que limita el alcance y la efectividad de nuestra presencia digital.\n",
    "\n",
    "La solución propuesta es utilizar la Inteligencia Artificial Generativa y la disciplina del Prompt Engineering para crear copies persuasivos e ideas visuales. De esta manera, no solo se busca mejorar la calidad del contenido, sino también optimizar el tiempo del equipo creativo y asegurar una voz de marca más coherente.\n",
    "\n",
    "**Introducción:**\n",
    "\n",
    "Nombre del Proyecto: Idea Alquímica: Tejiendo el Futuro con Prompt Engineering\n",
    "\n",
    "**Presentación del problema a abordar:**\n",
    "\n",
    "En mi rol como diseñadora gráfica en la imprenta Signs2goPlus (S2GP), he identificado un problema recurrente y significativo: la dificultad para generar contenido de texto (copies) de calidad para nuestras redes sociales, especialmente Instagram.\n",
    "\n",
    "A pesar de contar con un equipo que produce excelentes fotografías y diseños de nuestros trabajos (letreros, impresiones de gran formato, etc.), a menudo el texto que acompaña a estas publicaciones es genérico o poco atractivo. Este problema es relevante porque un copy deficiente no logra captar la atención de la audiencia, no comunica el valor de nuestro trabajo y, en consecuencia, reduce el engagement y el impacto de nuestras publicaciones. La creación de estos textos es una tarea que consume tiempo valioso que podría dedicarse a otras áreas de diseño y, en muchos casos, requiere habilidades de redacción publicitaria que no todos en el equipo poseemos. Es una barrera que nos impide maximizar la visibilidad de nuestra marca y conectar de manera más efectiva con nuestros clientes potenciales.\n",
    "\n",
    "**Desarrollo de la propuesta de solución:**\n",
    "\n",
    "Mi propuesta es utilizar la Inteligencia Artificial Generativa como una herramienta de apoyo para el equipo de diseño y marketing de S2GP. La solución se basa en el Prompt Engineering, es decir, en la creación de instrucciones precisas y efectivas para modelos de IA que nos permitan generar copies e ideas de imágenes para nuestras redes sociales. De esta manera, aceleramos el proceso creativo, mejoramos la calidad del contenido y aseguramos una voz de marca más coherente y persuasiva.\n",
    "\n",
    "**Justificación de la viabilidad del proyecto:**\n",
    "\n",
    "Este proyecto es completamente viable y puede implementarse con los recursos actuales de la empresa y herramientas de fácil acceso.\n",
    "\n",
    "**Viabilidad técnica:** La propuesta se basa en el uso de modelos de IA accesibles como ChatGPT para la generación de texto y Adobe Express (o herramientas gratuitas como Nightcafe) para la generación de imágenes. No se requiere ninguna infraestructura tecnológica adicional o conocimientos avanzados de programación. Las herramientas son intuitivas y permiten una rápida implementación.\n",
    "\n",
    "**Recursos y tiempo:** La inversión de recursos es mínima. La mayor parte del tiempo se dedicará a refinar los prompts y a integrar los resultados generados por la IA en nuestro flujo de trabajo de marketing. El tiempo ahorrado en la redacción manual de copys justifica con creces el esfuerzo inicial. Al ser un proyecto acotado y enfocado en una necesidad clara, se puede desarrollar y probar de forma eficiente en el marco del tiempo disponible."
   ]
  },
  {
   "cell_type": "markdown",
   "id": "b4a4c0f5",
   "metadata": {},
   "source": [
    "## Objetivos\n",
    "\n",
    "- Generar contenido de texto (copies) atractivo y persuasivo para redes sociales de S2GP utilizando IA.\n",
    "- Optimizar el tiempo del equipo creativo con técnicas de fast prompting.\n",
    "- Explorar la generación de imágenes conceptuales para complementar el contenido visual de la marca."
   ]
  },
  {
   "cell_type": "markdown",
   "id": "40024f0d",
   "metadata": {},
   "source": [
    "## Metodología\n",
    "\n",
    "1. Identificación del problema: dificultad en la generación de copys atractivos.\n",
    "2. Selección de herramientas: ChatGPT para texto-texto y Nightcafe para texto-imagen.\n",
    "3. Diseño de prompts específicos aplicando técnicas de fast prompting (rol, contexto, tono, palabras clave).\n",
    "4. Implementación en esta notebook: se documentan los prompts, resultados obtenidos y análisis."
   ]
  },
  {
   "cell_type": "markdown",
   "id": "42d8fd89",
   "metadata": {},
   "source": [
    "## Herramientas y Tecnologías\n",
    "\n",
    "- **ChatGPT** → Generación de texto (copies para Instagram).\n",
    "- **Nightcafe** → Generación de imágenes a partir de texto.\n",
    "- **Jupyter Notebook** → Integración de texto, código e imágenes.\n",
    "- **Fast Prompting Techniques** → Especificidad, rol definido, estructura clara, iteración."
   ]
  },
  {
   "cell_type": "markdown",
   "id": "1a60fc91",
   "metadata": {},
   "source": [
    "## Implementación: Texto-Texto (ChatGPT)\n",
    "\n",
    "### Prompt utilizado:\n",
    "\"Actúa como un estratega de marketing experto en el sector de imprentas y letreros. \n",
    "Crea un copy persuasivo para Instagram que acompañe la foto de un letrero luminoso de acrílico. \n",
    "El copy debe resaltar la durabilidad, el diseño moderno y la alta calidad de los materiales. \n",
    "Utiliza un tono profesional pero atractivo e incluye una clara llamada a la acción \n",
    "para que los interesados soliciten un presupuesto. \n",
    "Al final, añade los siguientes hashtags: #Signs2goPlus #SignsCompany #S2GPPrinting.\""
   ]
  },
  {
   "cell_type": "code",
   "execution_count": 2,
   "id": "72719a0a",
   "metadata": {},
   "outputs": [
    {
     "name": "stdout",
     "output_type": "stream",
     "text": [
      "\n",
      "✨ Ilumina tu marca con estilo y calidad ✨\n",
      "Nuestro letrero luminoso de acrílico combina diseño moderno y durabilidad superior. \n",
      "Ideal para destacar tu negocio y atraer todas las miradas.\n",
      "💡 ¿Listo para brillar? Pedí tu presupuesto hoy mismo.\n",
      "#Signs2goPlus #SignsCompany #S2GPPrinting #SignDesign #BusinessBranding\n",
      "\n"
     ]
    }
   ],
   "source": [
    "copy_generado = \"\"\"\n",
    "✨ Ilumina tu marca con estilo y calidad ✨\n",
    "Nuestro letrero luminoso de acrílico combina diseño moderno y durabilidad superior. \n",
    "Ideal para destacar tu negocio y atraer todas las miradas.\n",
    "💡 ¿Listo para brillar? Pedí tu presupuesto hoy mismo.\n",
    "#Signs2goPlus #SignsCompany #S2GPPrinting #SignDesign #BusinessBranding\n",
    "\"\"\"\n",
    "print(copy_generado)"
   ]
  },
  {
   "cell_type": "markdown",
   "id": "9629f686",
   "metadata": {},
   "source": [
    "## Implementación: Texto-Imagen (Nightcafe / Adobe Express)\n",
    "\n",
    "### Prompt utilizado:\n",
    "\"Letrero luminoso de neón, con palabra \"WELCOME\". \n",
    "Paleta de colores vibrantes: magenta y azul eléctrico.\"\n",
    "\n",
    "### Resultado:\n",
    "![Letrero generado](imagenes/img_1.jpg)\n",
    "\n",
    "---\n",
    "\n",
    "### Prompt utilizado:\n",
    "\"Mezcla de colores para un fondo alegre con tonos naranjas y violetas.\"\n",
    "\n",
    "### Resultado:\n",
    "![Fondo generado](imagenes/img_2.jpg)"
   ]
  },
  {
   "cell_type": "markdown",
   "id": "d6a1a12c",
   "metadata": {},
   "source": [
    "## Resultados\n",
    "\n",
    "- Los copies generados con ChatGPT son más persuasivos, coherentes y rápidos de producir en comparación con los textos manuales.\n",
    "- Las imágenes conceptuales generadas con Nightcafe complementan la estética visual de la marca.\n",
    "- Se logró optimizar el tiempo de producción de contenido y mantener una voz de marca clara."
   ]
  },
  {
   "cell_type": "markdown",
   "id": "4c05a445",
   "metadata": {},
   "source": [
    "## Conclusiones\n",
    "\n",
    "El proyecto demostró que la IA generativa puede integrarse de forma práctica al flujo de trabajo de S2GP, \n",
    "mejorando la calidad de los copys y aportando ideas visuales innovadoras. \n",
    "Se cumplieron los objetivos planteados: optimización de tiempo, mejora en la calidad del contenido \n",
    "y coherencia en la comunicación de marca. \n",
    "Este enfoque puede escalarse en el futuro incorporando otros modelos (ej. texto-audio o interfaces de usuario)."
   ]
  },
  {
   "cell_type": "markdown",
   "id": "770ef61b",
   "metadata": {},
   "source": [
    "## Referencias\n",
    "- OpenAI ChatGPT\n",
    "- Nightcafe\n",
    "- Recursos de la Diplomatura en IA Generativa"
   ]
  }
 ],
 "metadata": {
  "kernelspec": {
   "display_name": "Python 3",
   "language": "python",
   "name": "python3"
  },
  "language_info": {
   "codemirror_mode": {
    "name": "ipython",
    "version": 3
   },
   "file_extension": ".py",
   "mimetype": "text/x-python",
   "name": "python",
   "nbconvert_exporter": "python",
   "pygments_lexer": "ipython3",
   "version": "3.13.7"
  }
 },
 "nbformat": 4,
 "nbformat_minor": 5
}
